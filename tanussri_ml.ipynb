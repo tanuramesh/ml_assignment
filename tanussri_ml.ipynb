{
  "nbformat": 4,
  "nbformat_minor": 0,
  "metadata": {
    "colab": {
      "name": "Untitled0.ipynb",
      "provenance": []
    },
    "kernelspec": {
      "name": "python3",
      "display_name": "Python 3"
    },
    "language_info": {
      "name": "python"
    }
  },
  "cells": [
    {
      "cell_type": "markdown",
      "source": [
        "1"
      ],
      "metadata": {
        "id": "s18wdYX9yol3"
      }
    },
    {
      "cell_type": "code",
      "execution_count": 3,
      "metadata": {
        "colab": {
          "base_uri": "https://localhost:8080/"
        },
        "id": "ofzjf7KrtPRs",
        "outputId": "df2e9faa-5c0e-464e-ed44-f9a82bb86c2e"
      },
      "outputs": [
        {
          "output_type": "stream",
          "name": "stdout",
          "text": [
            "120\n"
          ]
        }
      ],
      "source": [
        "def fact (num):\n",
        "  fact=1\n",
        "  for i in range(1,num+1):\n",
        "      fact=fact*i\n",
        "  return fact\n",
        "\n",
        "print(fact (5))\n"
      ]
    },
    {
      "cell_type": "markdown",
      "source": [
        "2"
      ],
      "metadata": {
        "id": "3Q4idWZ3yuqe"
      }
    },
    {
      "cell_type": "code",
      "source": [
        "def relations(name):\n",
        "    relation={'Darth Vader':'father','Lela':'sister','Han':'brother in law','R2D2':'droid'}\n",
        "    return relation[name]\n",
        "\n",
        "print(\"Luke, I am your \"+relations('Darth Vader'))\n"
      ],
      "metadata": {
        "colab": {
          "base_uri": "https://localhost:8080/"
        },
        "id": "4Yh__iTotVAL",
        "outputId": "b1fdb593-86a2-45dd-8651-0582e924f55a"
      },
      "execution_count": 11,
      "outputs": [
        {
          "output_type": "stream",
          "name": "stdout",
          "text": [
            "Luke, I am your father\n"
          ]
        }
      ]
    },
    {
      "cell_type": "markdown",
      "source": [
        "3"
      ],
      "metadata": {
        "id": "H_Lo2bMSy9P7"
      }
    },
    {
      "cell_type": "code",
      "source": [
        "def digits(num):\n",
        "    temp=num\n",
        "    count=0\n",
        "    while(temp>0):\n",
        "        x=temp%10\n",
        "        count+=1\n",
        "        temp=temp//10\n",
        "        \n",
        "    return count\n",
        "\n",
        "print(digits(13082000))\n",
        "\n"
      ],
      "metadata": {
        "colab": {
          "base_uri": "https://localhost:8080/"
        },
        "id": "R1LEGnJuuj2_",
        "outputId": "5c62ccc7-a5e2-4e9f-9e63-3364354d5941"
      },
      "execution_count": 13,
      "outputs": [
        {
          "output_type": "stream",
          "name": "stdout",
          "text": [
            "8\n"
          ]
        }
      ]
    },
    {
      "cell_type": "markdown",
      "source": [
        "4"
      ],
      "metadata": {
        "id": "XeFl5t1LzAI2"
      }
    },
    {
      "cell_type": "code",
      "source": [
        "def fact (num):\n",
        "  fact=1\n",
        "  for i in range(1,num+1):\n",
        "      fact=fact*i\n",
        "  return fact\n",
        "\n",
        "def fact2(num):\n",
        "    temp=num\n",
        "    ans=1\n",
        "    while(temp>0):\n",
        "        newfact=fact(temp)\n",
        "        ans=ans*newfact\n",
        "        temp=temp-1\n",
        "    return ans\n",
        "\n",
        "print(fact2(3))\n"
      ],
      "metadata": {
        "colab": {
          "base_uri": "https://localhost:8080/"
        },
        "id": "-LUve-u2u1uE",
        "outputId": "a7e2e5dc-eaf4-426f-aa09-b0b28e265445"
      },
      "execution_count": 18,
      "outputs": [
        {
          "output_type": "stream",
          "name": "stdout",
          "text": [
            "12\n"
          ]
        }
      ]
    },
    {
      "cell_type": "markdown",
      "source": [
        "5"
      ],
      "metadata": {
        "id": "Awf4Ti6lzTvo"
      }
    },
    {
      "cell_type": "code",
      "source": [
        "def arguments(*argv):\n",
        "    result=0\n",
        "    for num in argv:\n",
        "        \n",
        "        temp=num**2\n",
        "        result=result+temp\n",
        "    return result\n",
        "\n",
        "print(arguments(5,6,7,8))\n"
      ],
      "metadata": {
        "colab": {
          "base_uri": "https://localhost:8080/"
        },
        "id": "EHqJxmCEvSNR",
        "outputId": "75391628-af34-41b0-a86b-e46339e49a75"
      },
      "execution_count": 21,
      "outputs": [
        {
          "output_type": "stream",
          "name": "stdout",
          "text": [
            "174\n"
          ]
        }
      ]
    },
    {
      "cell_type": "markdown",
      "source": [
        "6"
      ],
      "metadata": {
        "id": "8YkbF2fTzXxA"
      }
    },
    {
      "cell_type": "code",
      "source": [
        "def valid_operation(num1,num2,op):\n",
        "    if(op not in ['+','-','*','/']):\n",
        "        return \n",
        "    else:\n",
        "        if(op=='+'):\n",
        "            return num1+num2\n",
        "        elif(op=='-'):\n",
        "            return num1-num2\n",
        "        elif(op=='*'):\n",
        "            return num1*num2\n",
        "        elif(op=='/'):\n",
        "            return num1/num2\n",
        "\n",
        "print(valid_operation(10,5,'/'))\n",
        "print(valid_operation(10,5,'//'))\n",
        "print(valid_operation(10,5,'+'))\n",
        "print(valid_operation(2,3,'^'))\n"
      ],
      "metadata": {
        "colab": {
          "base_uri": "https://localhost:8080/"
        },
        "id": "W7KnFTQ_vkf1",
        "outputId": "cbfb55a2-39fd-4a28-dc14-f77c25db1328"
      },
      "execution_count": 24,
      "outputs": [
        {
          "output_type": "stream",
          "name": "stdout",
          "text": [
            "2.0\n",
            "None\n",
            "15\n",
            "None\n"
          ]
        }
      ]
    },
    {
      "cell_type": "markdown",
      "source": [
        "7"
      ],
      "metadata": {
        "id": "1nT1KwOSzYxb"
      }
    },
    {
      "cell_type": "code",
      "source": [
        "def repeated_words(num):\n",
        "    temp=num\n",
        "    a=0\n",
        "    while(temp>0):\n",
        "        if(a==0):\n",
        "            print(\"I CAN\",end=' ')\n",
        "            a=1\n",
        "        else:\n",
        "            print(\"I WILL\",end=' ')\n",
        "            a=0\n",
        "        temp-=1\n",
        "\n",
        "repeated_words(3)\n"
      ],
      "metadata": {
        "colab": {
          "base_uri": "https://localhost:8080/"
        },
        "id": "Z_vIW5s-wOTN",
        "outputId": "2da8183b-ea23-4842-d115-d9de6f083db3"
      },
      "execution_count": 27,
      "outputs": [
        {
          "output_type": "stream",
          "name": "stdout",
          "text": [
            "I CAN I WILL I CAN "
          ]
        }
      ]
    },
    {
      "cell_type": "markdown",
      "source": [
        "8"
      ],
      "metadata": {
        "id": "N4U2cY1xza36"
      }
    },
    {
      "cell_type": "code",
      "source": [
        "def pair_of_gloves (l1):\n",
        "    l1.sort()\n",
        "    i=0\n",
        "    count=0\n",
        "    flag=True\n",
        "    while(i<len(l1)-1):\n",
        "        #print(l1[i+1])\n",
        "        if(l1[i+1]-l1[i]==0):\n",
        "            count+=1\n",
        "            i+=2\n",
        "            \n",
        "        else:\n",
        "            i+=1\n",
        "    return count\n",
        "\n",
        "    \n",
        "\n",
        "print(pair_of_gloves([1,2,1,2,1,3,2,4]))\n"
      ],
      "metadata": {
        "colab": {
          "base_uri": "https://localhost:8080/"
        },
        "id": "SjQm-1u5x2J1",
        "outputId": "fedc58ec-46c3-4776-aefa-ab2bfb538410"
      },
      "execution_count": 35,
      "outputs": [
        {
          "output_type": "stream",
          "name": "stdout",
          "text": [
            "2\n"
          ]
        }
      ]
    },
    {
      "cell_type": "markdown",
      "source": [
        "9"
      ],
      "metadata": {
        "id": "-bbOdNjzzib-"
      }
    },
    {
      "cell_type": "code",
      "source": [
        "lst1 = [7, 4, 5, 1]\n",
        "lst2 = [2, 1, 6]\n",
        "final_lst = lst1+lst2\n",
        "\n",
        "def duplicate_checking(l):\n",
        "    return sorted(l) == list(range(min(l), max(l)+1))\n",
        "\n",
        "print(duplicate_checking(final_lst))"
      ],
      "metadata": {
        "colab": {
          "base_uri": "https://localhost:8080/"
        },
        "id": "73DlYFDBxDSm",
        "outputId": "1887fc5a-be03-4e71-f8ae-7061930cc845"
      },
      "execution_count": 33,
      "outputs": [
        {
          "output_type": "stream",
          "name": "stdout",
          "text": [
            "False\n"
          ]
        }
      ]
    },
    {
      "cell_type": "markdown",
      "source": [
        "10"
      ],
      "metadata": {
        "id": "SFJbBe5kzj_T"
      }
    },
    {
      "cell_type": "code",
      "source": [
        "\n",
        "def total(product):\n",
        "    total=int((product ['sell_price']-product ['cost_price'])*product ['inventory'])\n",
        "    return total\n",
        "\n",
        "print(total({\n",
        "    'cost_price':32.67,\n",
        "    'sell_price':45.00,\n",
        "    'inventory':1200\n",
        "}))\n",
        "\n",
        "\n"
      ],
      "metadata": {
        "colab": {
          "base_uri": "https://localhost:8080/"
        },
        "id": "_oayfRElwzKu",
        "outputId": "1a30399a-6234-4fa0-e48f-e9a0a80ea7f9"
      },
      "execution_count": 29,
      "outputs": [
        {
          "output_type": "stream",
          "name": "stdout",
          "text": [
            "14795\n"
          ]
        }
      ]
    },
    {
      "cell_type": "code",
      "source": [
        ""
      ],
      "metadata": {
        "id": "7qIXb1ujxo7a"
      },
      "execution_count": null,
      "outputs": []
    }
  ]
}